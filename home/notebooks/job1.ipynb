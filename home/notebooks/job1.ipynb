{
 "cells": [
  {
   "cell_type": "code",
   "execution_count": 4,
   "metadata": {
    "tags": []
   },
   "outputs": [
    {
     "name": "stdout",
     "output_type": "stream",
     "text": [
      "None\n",
      "data-product-a-dev\n",
      "minio\n"
     ]
    }
   ],
   "source": [
    "import os\n",
    "\n",
    "ENV = os.environ.get('ENV')\n",
    "BUCKET = None\n",
    "HOST = None\n",
    "print(ENV)\n",
    "\n",
    "if ENV == None:\n",
    "\n",
    "    HOST = 'minio'\n",
    "    BUCKET = 'data-product-a-dev'\n",
    "\n",
    "if ENV == 'PRD':\n",
    "\n",
    "    HOST = 'minio'\n",
    "    BUCKET = 'data-product-a'\n",
    "\n",
    "print(BUCKET)\n",
    "print(HOST)"
   ]
  },
  {
   "cell_type": "code",
   "execution_count": 14,
   "metadata": {
    "tags": []
   },
   "outputs": [],
   "source": [
    "import time\n",
    "from pyspark.sql import SparkSession\n",
    "\n",
    "\n",
    "\n",
    "\n",
    "\n",
    "spark = SparkSession.builder.config('spark.jars', \"\"\"./home/jars/aws-java-sdk-bundle-1.12.419.jar,\n",
    "                                                     ./home/jars/hadoop-aws-3.3.2.jar,\n",
    "                                                     ./home/jovyan/jars/aws-java-sdk-bundle-1.12.419.jar,\n",
    "                                                     ./home/jovyan/jars/hadoop-aws-3.3.2.jar\"\"\") \\\n",
    "                        .getOrCreate()\n",
    "\n",
    "MINIO_ACCESSKEY = \"TclV2UThQ98tgWko\"\n",
    "MINIO_SECRETKEY = \"jOi3VpAUZZYn6tdkUUMqj5DfQFYt9BnU\"\n",
    "\n",
    "\n",
    "spark._jsc.hadoopConfiguration().set(\"fs.s3a.endpoint\", f\"http://{HOST}:9000\")\n",
    "spark._jsc.hadoopConfiguration().set(\"fs.s3a.access.key\", MINIO_ACCESSKEY)\n",
    "spark._jsc.hadoopConfiguration().set(\"fs.s3a.secret.key\", MINIO_SECRETKEY)\n",
    "spark._jsc.hadoopConfiguration().set(\"spark.hadoop.fs.s3a.impl\", \"org.apache.hadoop.fs.s3a.S3AFileSystem\")\n",
    "spark._jsc.hadoopConfiguration().set(\"fs.s3a.connection.ssl.enabled\", \"true\")\n",
    "spark._jsc.hadoopConfiguration().set(\"fs.s3a.path.style.access\", \"true\")\n",
    "spark._jsc.hadoopConfiguration().set(\"fs.s3a.attempts.maximum\", \"1\")\n",
    "spark._jsc.hadoopConfiguration().set(\"fs.s3a.connection.establish.timeout\", \"5000\")\n",
    "spark._jsc.hadoopConfiguration().set(\"fs.s3a.connection.timeout\", \"10000\")"
   ]
  },
  {
   "cell_type": "code",
   "execution_count": 16,
   "metadata": {
    "tags": []
   },
   "outputs": [
    {
     "name": "stdout",
     "output_type": "stream",
     "text": [
      "3.3.2\n"
     ]
    }
   ],
   "source": [
    "print(spark.version)"
   ]
  },
  {
   "cell_type": "code",
   "execution_count": 17,
   "metadata": {
    "tags": []
   },
   "outputs": [],
   "source": [
    "from pyspark.sql import functions as f"
   ]
  },
  {
   "cell_type": "code",
   "execution_count": 18,
   "metadata": {
    "tags": []
   },
   "outputs": [
    {
     "name": "stdout",
     "output_type": "stream",
     "text": [
      "+--------+--------------------+-------+-----------+------------+--------+---------+-----------------+----------------+-------------+-----+-----------------------+-----------------------+--------+\n",
      "|IBGECode|         LocalCidade|LocalUF|LocalEstado|RegiaoBrasil|Latitude|Longitude|        Gentilico|PopEstimada_2018|PopCenso 2010| IDHM|ReceitasRealizadas_2014|DespesasEmpenhadas_2014|Pib_2014|\n",
      "+--------+--------------------+-------+-----------+------------+--------+---------+-----------------+----------------+-------------+-----+-----------------------+-----------------------+--------+\n",
      "| 1100015|ALTA FLORESTA D'O...|     RO|   Rondonia|           N|-119.283| -619.953|   alta-florense |           23167|        24392|0,641|                  53490|                  47577|16461,11|\n",
      "| 1100023|           ARIQUEMES|     RO|   Rondonia|           N|-990.571| -630.325|     ariquemense |          106168|        90353|0,702|                      0|                      0|19401,43|\n",
      "| 1100031|              CABIXI|     RO|   Rondonia|           N|-134.945|  -60.552|      cabixiense |            5438|         6313| 0,65|                  22635|                  19354|18346,17|\n",
      "| 1100049|              CACOAL|     RO|   Rondonia|           N|-114.343| -614.562|      cacoalense |           84813|        78574|0,718|                 169636|                 155473|20725,23|\n",
      "| 1100056|          CEREJEIRAS|     RO|   Rondonia|           N| -13.187| -608.168|    cerejeirense |           16444|        17029|0,692|                  53147|                  46774|22179,17|\n",
      "| 1100064|    COLORADO D OESTE|     RO|   Rondonia|           N|-131.174| -605.454|     coloradense |           16227|        18591|0,685|                  34612|                  34381|15300,88|\n",
      "| 1100072|          CORUMBIARA|     RO|   Rondonia|           N|-129.551| -608.947|   corumbiarense |            7567|         8783|0,613|                  31930|                  26576|21651,45|\n",
      "| 1100080|       COSTA MARQUES|     RO|   Rondonia|           N|-124.367|  -64.228| costa-marquense |           17855|        13678|0,611|                      0|                      0|11221,33|\n",
      "| 1100098|     ESPIGAO D OESTE|     RO|   Rondonia|           N|-115.266| -610.252|     espigãoense |           32047|        28729|0,672|                  64926|                  48201|14870,87|\n",
      "| 1100106|       GUAJARA MIRIM|     RO|   Rondonia|           N|-107.889| -653.296| guajará-mirense |           45783|        41656|0,657|                  76112|                  68052|14711,46|\n",
      "| 1100114|                JARU|     RO|   Rondonia|           N|-104.318| -624.788|        jaruense |           51933|        52005|0,689|                 105690|                  93923|22115,38|\n",
      "| 1100122|           JI PARANA|     RO|   Rondonia|           N|-108.777| -619.322|   ji-paranaense |          127907|       116610|0,714|                 216601|                 184993|21239,09|\n",
      "| 1100130|  MACHADINHO D'OESTE|     RO|   Rondonia|           N|-944.363| -619.818|   machadinhense |           39097|        31135|0,596|                  67914|                  64452|12105,58|\n",
      "| 1100148|NOVA BRASILANDIA ...|     RO|   Rondonia|           N|-117.247| -623.127|   brasilandense |           20459|        19874|0,643|                  43737|                  33593|12620,96|\n",
      "| 1100155| OURO PRETO DO OESTE|     RO|   Rondonia|           N|-107.167| -622.565|   ouro-pretense |           36340|        37928|0,682|                  83734|                  65631|15925,15|\n",
      "| 1100189|       PIMENTA BUENO|     RO|   Rondonia|           N| -11.672|  -61.198|pimenta-buenense |           36434|        33822| 0,71|                  67322|                  65568|24271,99|\n",
      "| 1100205|         PORTO VELHO|     RO|   Rondonia|           N|-876.077| -638.999|  porto-velhense |          519531|       428527|0,736|                1172070|                1041659| 27741,1|\n",
      "| 1100254|   PRESIDENTE MEDICI|     RO|   Rondonia|           N| -11.169| -618.986|      mediciense |           19409|        22319|0,664|                  51414|                  39412|16109,63|\n",
      "| 1100262|          RIO CRESPO|     RO|   Rondonia|           N|-969.965| -629.011|   rio-crespense |            3723|         3316|0,643|                  15567|                  14450|20893,97|\n",
      "| 1100288|      ROLIM DE MOURA|     RO|   Rondonia|           N|-117.271| -617.714|     rolimorense |           54702|        50648|  0,7|                 116687|                  95444| 19714,8|\n",
      "+--------+--------------------+-------+-----------+------------+--------+---------+-----------------+----------------+-------------+-----+-----------------------+-----------------------+--------+\n",
      "only showing top 20 rows\n",
      "\n"
     ]
    }
   ],
   "source": [
    "df_bronze = spark.read.csv(f's3a://{BUCKET}/bronze/', sep=';', header=True)\n",
    "df_bronze.show()"
   ]
  },
  {
   "cell_type": "code",
   "execution_count": 19,
   "metadata": {},
   "outputs": [],
   "source": [
    "df_bronze.write.parquet(f's3a://{BUCKET}/silver/brazilian_cities1/', mode='overwrite')"
   ]
  },
  {
   "cell_type": "code",
   "execution_count": 12,
   "metadata": {},
   "outputs": [],
   "source": [
    "df_bronze.groupBy('LocalUF').agg((f.count('*')).alias('qtd')).write.parquet(f's3a://{BUCKET}/gold/state_count3', mode='overwrite')"
   ]
  },
  {
   "cell_type": "code",
   "execution_count": 13,
   "metadata": {},
   "outputs": [
    {
     "name": "stdout",
     "output_type": "stream",
     "text": [
      "+-------+---+\n",
      "|LocalUF|qtd|\n",
      "+-------+---+\n",
      "|     SC|295|\n",
      "|     RO| 52|\n",
      "|     PI|224|\n",
      "|     AM| 62|\n",
      "|     RR| 15|\n",
      "|     GO|246|\n",
      "|     TO|139|\n",
      "|     MT|141|\n",
      "|     SP|645|\n",
      "|     PB|223|\n",
      "|     ES| 78|\n",
      "|     RS|497|\n",
      "|     MS| 79|\n",
      "|     AL|102|\n",
      "|     MG|853|\n",
      "|     PA|144|\n",
      "|     BA|417|\n",
      "|     SE| 75|\n",
      "|     PE|185|\n",
      "|     CE|184|\n",
      "+-------+---+\n",
      "only showing top 20 rows\n",
      "\n"
     ]
    }
   ],
   "source": [
    "spark.read.parquet(f's3a://{BUCKET}/gold/state_count').show()"
   ]
  }
 ],
 "metadata": {
  "kernelspec": {
   "display_name": "Python 3 (ipykernel)",
   "language": "python",
   "name": "python3"
  },
  "language_info": {
   "codemirror_mode": {
    "name": "ipython",
    "version": 3
   },
   "file_extension": ".py",
   "mimetype": "text/x-python",
   "name": "python",
   "nbconvert_exporter": "python",
   "pygments_lexer": "ipython3",
   "version": "3.10.9"
  }
 },
 "nbformat": 4,
 "nbformat_minor": 4
}
